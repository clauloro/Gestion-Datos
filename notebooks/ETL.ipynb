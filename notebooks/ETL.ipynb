{
 "cells": [
  {
   "cell_type": "markdown",
   "metadata": {},
   "source": [
    "## ETL: Extracción desde Azure y Carga en SQL Server Local"
   ]
  },
  {
   "cell_type": "markdown",
   "metadata": {},
   "source": [
    "Este script realiza un proceso ETL automático extrayendo datos desde Azure SQL Database, transformándolos en Pandas y cargándolos en SQL Server Local."
   ]
  },
  {
   "cell_type": "markdown",
   "metadata": {},
   "source": [
    "### 1. Importación de Librerías"
   ]
  },
  {
   "cell_type": "code",
   "execution_count": 43,
   "metadata": {},
   "outputs": [],
   "source": [
    "# Importación de librerías necesarias\n",
    "import pyodbc  # Para conectar con bases de datos SQL Server\n",
    "import pandas as pd  # Para manipulación de datos\n",
    "import numpy as np  # Para manejo de valores numéricos\n",
    "import os  # Para trabajar con archivos y directorios\n",
    "import warnings  # Para ocultar warnings innecesarios\n",
    "\n",
    "warnings.filterwarnings(\"ignore\", category=UserWarning)  # Ocultar warnings\n"
   ]
  },
  {
   "cell_type": "markdown",
   "metadata": {},
   "source": [
    "**Explicación:**\n",
    "\n",
    "pyodbc → Conexión con bases de datos SQL Server.\n",
    "\n",
    "pandas → Manipulación y limpieza de datos.\n",
    "\n",
    "numpy → Optimización de datos numéricos.\n",
    "\n",
    "os → Gestión de archivos.\n",
    "\n",
    "warnings → Para suprimir advertencias innecesarias."
   ]
  },
  {
   "cell_type": "markdown",
   "metadata": {},
   "source": [
    "###  2. Configuración de Conexiones a Bases de Datos"
   ]
  },
  {
   "cell_type": "code",
   "execution_count": 44,
   "metadata": {},
   "outputs": [],
   "source": [
    "# 🔹 Conexión a Azure SQL\n",
    "AZURE_SERVER = 'uaxmathfis.database.windows.net'\n",
    "AZURE_DATABASE = 'usecases'\n",
    "AZURE_DRIVER = '{ODBC Driver 17 for SQL Server}'\n",
    "azure_conn_str = f\"DRIVER={AZURE_DRIVER};SERVER={AZURE_SERVER};DATABASE={AZURE_DATABASE};Authentication=ActiveDirectoryInteractive\"\n",
    "\n",
    "# 🔹 Conexión a SQL Server Local\n",
    "LOCAL_SERVER = 'localhost'\n",
    "LOCAL_DATABASE = 'dwh_case1'\n",
    "LOCAL_DRIVER = '{ODBC Driver 17 for SQL Server}'\n",
    "local_conn_str = f\"DRIVER={LOCAL_DRIVER};SERVER={LOCAL_SERVER};DATABASE={LOCAL_DATABASE};Trusted_Connection=yes;TrustServerCertificate=yes\"\n",
    "\n",
    "\n",
    "\n"
   ]
  },
  {
   "cell_type": "markdown",
   "metadata": {},
   "source": [
    "**Explicación:**\n",
    "\n",
    "Se definen las credenciales de conexión tanto para Azure SQL como para SQL Server Local.\n",
    "\n",
    "ActiveDirectoryInteractive se usa para autenticación en Azure."
   ]
  },
  {
   "cell_type": "markdown",
   "metadata": {},
   "source": [
    "### 3. Definición de Tablas y Archivos SQL"
   ]
  },
  {
   "cell_type": "code",
   "execution_count": 45,
   "metadata": {},
   "outputs": [],
   "source": [
    "# 📌 Ubicación de los archivos SQL con las consultas de extracción\n",
    "query_folder = \"../data/dwh\"\n",
    "queries = {\n",
    "    \"dim_geo\": \"dim_geo.sql\",\n",
    "    \"dim_product\": \"dim_product.sql\",\n",
    "    \"dim_time\": \"dim_date.sql\",   # Corregido: en la imagen es dim_date.sql, no dim_time.sql\n",
    "    \"dim_client\": \"dim_client.sql\",\n",
    "    \"fact_sales\": \"dim_fact.sql\"  # Corregido: en la imagen es dim_fact.sql, no load_fact.sql\n",
    "}\n",
    "\n",
    "# 📌 Definir claves primarias para cada tabla\n",
    "primary_keys = {\n",
    "    \"fact_sales\": [\"CODE\"],\n",
    "    \"dim_client\": [\"Customer_ID\"],\n",
    "    \"dim_geo\": [\"TIENDA_ID\"],\n",
    "    \"dim_product\": [\"Id_Producto\"],\n",
    "    \"dim_time\": [\"Fecha\"]\n",
    "}\n",
    "\n",
    "# 📌 Definir claves foráneas\n",
    "foreign_keys = {\n",
    "    \"fact_sales\": {\n",
    "        \"Customer_ID\": \"dim_client(Customer_ID)\",\n",
    "        \"TIENDA_ID\": \"dim_geo(TIENDA_ID)\",\n",
    "        \"Id_Producto\": \"dim_product(Id_Producto)\",\n",
    "        \"Sales_Date\": \"dim_time(Fecha)\"\n",
    "    }\n",
    "}\n"
   ]
  },
  {
   "cell_type": "markdown",
   "metadata": {},
   "source": [
    "**Explicación:**\n",
    "\n",
    "queries → Diccionario con las rutas de los archivos SQL que contienen las consultas de extracción.\n",
    "\n",
    "primary_keys → Diccionario con las claves primarias de cada tabla.\n",
    "\n",
    "foreign_keys → Diccionario con las relaciones entre tablas."
   ]
  },
  {
   "cell_type": "markdown",
   "metadata": {},
   "source": [
    "### 4. Función para Crear Tablas en SQL Server"
   ]
  },
  {
   "cell_type": "code",
   "execution_count": 46,
   "metadata": {},
   "outputs": [],
   "source": [
    "def create_table_sql(table_name, df):\n",
    "    # Mapeo específico de columnas de fecha para cada tabla\n",
    "    date_columns = {\n",
    "        \"dim_client\": [\"Fecha_nacimiento\"],\n",
    "        \"dim_time\": [\"InicioMes\", \"FinMes\", \"Fecha\"],\n",
    "        \"fact_sales\": [\"DATE_ULTIMA_REVISION\", \"Logistic_date\", \"Prod_date\", \"Sales_Date\"]\n",
    "    }\n",
    "    \n",
    "    col_defs = []\n",
    "    for col in df.columns:\n",
    "        # Verificar si la columna está en el mapeo manual de fechas\n",
    "        if table_name in date_columns and col in date_columns[table_name]:\n",
    "            col_defs.append(f'[{col}] DATE')\n",
    "        # Detección automática de tipos para otras columnas\n",
    "        elif np.issubdtype(df[col].dtype, np.datetime64):\n",
    "            col_defs.append(f'[{col}] DATE')\n",
    "        elif df[col].dtype == np.float32:\n",
    "            col_defs.append(f'[{col}] FLOAT')\n",
    "        elif df[col].dtype == np.int32:\n",
    "            col_defs.append(f'[{col}] INT')\n",
    "        else:\n",
    "            # Para columnas de texto, ajustamos el tamaño según los datos\n",
    "            max_len = df[col].astype(str).str.len().max()\n",
    "            varchar_size = min(2000, max(1, int(max_len * 1.3)))  # Buffer del 30% con máximo 2000\n",
    "            col_defs.append(f'[{col}] NVARCHAR({varchar_size})')\n",
    "\n",
    "    # Agregar clave primaria si existe\n",
    "    pk = \", PRIMARY KEY (\" + \", \".join(primary_keys[table_name]) + \")\" if table_name in primary_keys else \"\"\n",
    "    \n",
    "    # Agregar claves foráneas si existen\n",
    "    fk = \"\"\n",
    "    if table_name in foreign_keys:\n",
    "        for col, ref in foreign_keys[table_name].items():\n",
    "            fk += f\", FOREIGN KEY ({col}) REFERENCES {ref}\"\n",
    "\n",
    "    return f\"CREATE TABLE {table_name} ({', '.join(col_defs)}{pk}{fk});\"\n",
    "\n"
   ]
  },
  {
   "cell_type": "markdown",
   "metadata": {},
   "source": [
    "**Explicación:**\n",
    "\n",
    "Genera una consulta CREATE TABLE dinámicamente.\n",
    "\n",
    "Detecta tipos de datos (DATE, FLOAT, INT, NVARCHAR).\n",
    "\n",
    "Incluye claves primarias y foráneas automáticamente."
   ]
  },
  {
   "cell_type": "markdown",
   "metadata": {},
   "source": [
    "### 5. Función para Eliminar Tablas en Orden"
   ]
  },
  {
   "cell_type": "code",
   "execution_count": 47,
   "metadata": {},
   "outputs": [],
   "source": [
    "def drop_tables_in_order(cursor, conn):\n",
    "    drop_order = [\"fact_sales\", \"dim_time\", \"dim_product\", \"dim_geo\", \"dim_client\"]\n",
    "    for table in drop_order:\n",
    "        check_exists_query = f\"IF OBJECT_ID('{table}', 'U') IS NOT NULL DROP TABLE {table};\"\n",
    "        try:\n",
    "            cursor.execute(check_exists_query)\n",
    "            conn.commit()\n",
    "        except Exception as e:\n",
    "            print(f\"Error al eliminar la tabla {table}: {e}\")\n"
   ]
  },
  {
   "cell_type": "markdown",
   "metadata": {},
   "source": [
    "**Explicación:**\n",
    "\n",
    "Elimina las tablas en el orden correcto para evitar problemas con claves foráneas.\n",
    "\n",
    "Verifica si la tabla existe antes de eliminarla."
   ]
  },
  {
   "cell_type": "markdown",
   "metadata": {},
   "source": [
    "### 6. Ejecución del Proceso ETL"
   ]
  },
  {
   "cell_type": "code",
   "execution_count": 48,
   "metadata": {},
   "outputs": [
    {
     "name": "stdout",
     "output_type": "stream",
     "text": [
      "Conexiones correctamente establecidas.\n",
      "\n",
      "Procesando: dim_geo\n",
      "   - Filas obtenidas: 12\n",
      "   - Columnas: ['TIENDA_ID', 'TIENDA_DESC', 'PROV_DESC', 'ZONA']\n",
      "   - Tabla dim_geo creada correctamente.\n",
      "   - 12 filas insertadas.\n",
      "\n",
      "Procesando: dim_product\n",
      "   - Filas obtenidas: 404\n",
      "   - Columnas: ['Id_Producto', 'Code_', 'Kw', 'TIPO_CARROCERIA', 'TRANSMISION_ID', 'Equipamiento', 'FUEL', 'Margen', 'Costetransporte', 'Margendistribuidor', 'GastosMarketing', 'Mantenimiento_medio', 'Comisión_Marca']\n",
      "   - Tabla dim_product creada correctamente.\n",
      "   - 404 filas insertadas.\n",
      "\n",
      "Procesando: dim_time\n",
      "   - Filas obtenidas: 3652\n",
      "   - Columnas: ['Fecha', 'InicioMes', 'FinMes', 'Dia', 'Diadelasemana', 'Diadelesemana_desc', 'Mes', 'Mes_desc', 'Año', 'Añomes', 'Week', 'Trimestre', 'SemanaDelMes', 'DiaDelAño', 'DiaDelTrimestre', 'Findesemana', 'Festivo', 'Laboral']\n",
      "   - Tabla dim_time creada correctamente.\n",
      "   - 3652 filas insertadas.\n",
      "\n",
      "Procesando: dim_client\n",
      "   - Filas obtenidas: 44053\n",
      "   - Columnas: ['Customer_ID', 'Edad', 'Fecha_nacimiento', 'GENERO', 'STATUS_SOCIAL', 'RENTA_MEDIA_ESTIMADA', 'ENCUESTA_ZONA_CLIENTE_VENTA', 'ENCUESTA_CLIENTE_ZONA_TALLER', 'CODIGO_POSTAL', 'poblacion', 'provincia', 'lat', 'lon', 'A', 'B', 'C', 'D', 'E', 'F', 'G', 'H', 'I', 'J', 'K', 'U', 'Max_Mosaic_G', 'Max_Mosaic2', 'Renta_Media', 'F2', 'Mosaic_number', 'PROV']\n",
      "   - Tabla dim_client creada correctamente.\n",
      "   - 44053 filas insertadas.\n",
      "\n",
      "Procesando: fact_sales\n",
      "   - Filas obtenidas: 58049\n",
      "   - Columnas: ['CODE', 'Code_', 'COSTE_VENTA_NO_IMPUESTOS', 'Customer_ID', 'EN_GARANTIA', 'EXTENSION_GARANTIA', 'Fin_Garantia', 'Id_Producto', 'IMPUESTOS', 'MANTENIMIENTO_GRATUITO', 'PVP', 'Sales_Date', 'SEGURO_BATERIA_LARGO_PLAZO', 'TIENDA_ID', 'DATE_ULTIMA_REVISION', 'DIAS_DESDE_ULTIMA_REVISION', 'Km_medio_por_revision', 'km_ultima_revision', 'Revisiones', 'DIAS_DESDE_LA_ULTIMA_ENTRADA_TALLER', 'DIAS_EN_TALLER', 'QUEJA', 'MOTIVO_VENTA', 'FORMA_PAGO', 'FORMA_PAGO_GRUPO', 'Fue_Lead', 'Lead_compra', 'Logistic_date', 'Prod_date', 't_logist_days', 't_prod_date', 't_stock_dates', 'Origen', 'Car_Age', 'Margen_Eur_bruto', 'Margen_Eur', 'Coste_Total_Venta', 'Tasa_Quejas_Venta', 'Churn']\n",
      "   - Tabla fact_sales creada correctamente.\n",
      "   - 58049 filas insertadas.\n",
      "\n",
      "ETL completado.\n"
     ]
    }
   ],
   "source": [
    "try:\n",
    "    # Conexión a las bases de datos.\n",
    "    conn_azure = pyodbc.connect(azure_conn_str)\n",
    "    conn_local = pyodbc.connect(local_conn_str)\n",
    "    print(\"Conexiones correctamente establecidas.\\n\")\n",
    "\n",
    "    with conn_local.cursor() as cursor:\n",
    "        drop_tables_in_order(cursor, conn_local)\n",
    "    # Procesamiento de cada tabla definida en el diccionario de Queries.\n",
    "    for table_name, file in queries.items():\n",
    "        print(f\"Procesando: {table_name}\")\n",
    "        query_path = os.path.join(query_folder, file)\n",
    "        with open(query_path, \"r\", encoding=\"utf-8\") as f:\n",
    "            sql_query = f.read()\n",
    "\n",
    "        # Ejecución de la consulta sobre la base de datos de Azure.\n",
    "        df = pd.read_sql(sql_query, conn_azure)\n",
    "\n",
    "        # Eliminación de las columnas duplicadas.\n",
    "        if df.columns.duplicated().any():\n",
    "            print(f\"Columnas duplicadas en {table_name}: {df.columns[df.columns.duplicated()].tolist()}\")\n",
    "            df = df.loc[:, ~df.columns.duplicated()]\n",
    "\n",
    "        # Detección de las columnas tipo DATE para convertirlas adecuadamente.\n",
    "        for col in df.columns:\n",
    "            if df[col].dtype == object or df[col].dtype == \"string\":\n",
    "                sample_values = df[col].astype(str).sample(min(len(df), 30), random_state=42)\n",
    "                # Saltar si parece una columna numérica (para no confundir INT con DATE).\n",
    "                if sample_values.str.isdigit().mean() > 0.8:\n",
    "                    continue\n",
    "                try:\n",
    "                    parsed = pd.to_datetime(sample_values, errors='coerce')\n",
    "                    if parsed.notna().sum() > 0.9 * len(sample_values):\n",
    "                        df[col] = pd.to_datetime(df[col], errors='coerce')\n",
    "                except:\n",
    "                    pass\n",
    "        # Si el DataFrame está vacío, se salta.\n",
    "        if df.empty:\n",
    "            print(f\"La tabla {table_name} no devolvió resultados.\\n\")\n",
    "            continue\n",
    "        print(f\"   - Filas obtenidas: {df.shape[0]}\")\n",
    "        print(f\"   - Columnas: {df.columns.tolist()}\")\n",
    "\n",
    "        # Limpieza de valores nulos y tipos de datos.\n",
    "        for col in df.columns:\n",
    "            df[col] = df[col].replace(r'^\\s*$', np.nan, regex=True) # Reemplazar espacios en blanco por NaN.\n",
    "            if pd.api.types.is_numeric_dtype(df[col]):\n",
    "                # Valor sentinel (ej: -1 o 999999).\n",
    "                sentinel = -1\n",
    "                df[col] = df[col].fillna(sentinel)\n",
    "            elif pd.api.types.is_datetime64_any_dtype(df[col]):\n",
    "                df[col] = df[col].fillna(df[col].mode(dropna=True)[0])\n",
    "            else:\n",
    "                df[col] = df[col].fillna(\"N/A\")\n",
    "        for col in df.select_dtypes(include=['float64']).columns:\n",
    "            df[col] = df[col].astype(np.float32)\n",
    "        for col in df.select_dtypes(include=['int64']).columns:\n",
    "            df[col] = df[col].astype(np.int32)\n",
    "\n",
    "        # Creación de la tabla en la base de datos local.\n",
    "        with conn_local.cursor() as cursor:\n",
    "            create_sql = create_table_sql(table_name, df)\n",
    "            cursor.execute(create_sql)\n",
    "            conn_local.commit()\n",
    "            print(f\"   - Tabla {table_name} creada correctamente.\")\n",
    "\n",
    "            placeholders = ', '.join(['?' for _ in df.columns])\n",
    "            insert_sql = f\"INSERT INTO {table_name} VALUES ({placeholders})\"\n",
    "            cursor.fast_executemany = True\n",
    "            cursor.executemany(insert_sql, df.values.tolist())\n",
    "            conn_local.commit()\n",
    "            print(f\"   - {df.shape[0]} filas insertadas.\\n\")\n",
    "\n",
    "except Exception as e:\n",
    "    print(f\"Error: {e}\")\n",
    "\n",
    "finally:\n",
    "    if 'conn_azure' in locals():\n",
    "        conn_azure.close()\n",
    "    if 'conn_local' in locals():\n",
    "        conn_local.close()\n",
    "\n",
    "print(\"ETL completado.\")"
   ]
  },
  {
   "cell_type": "markdown",
   "metadata": {},
   "source": [
    "**Explicación:**\n",
    "\n",
    "Extrae datos de Azure SQL.\n",
    "\n",
    "Convierte tipos de datos antes de insertarlos.\n",
    "\n",
    "Carga los datos en SQL Server Local.\n",
    "\n",
    "Cierra conexiones después de finalizar el proceso."
   ]
  }
 ],
 "metadata": {
  "kernelspec": {
   "display_name": "Python 3",
   "language": "python",
   "name": "python3"
  },
  "language_info": {
   "codemirror_mode": {
    "name": "ipython",
    "version": 3
   },
   "file_extension": ".py",
   "mimetype": "text/x-python",
   "name": "python",
   "nbconvert_exporter": "python",
   "pygments_lexer": "ipython3",
   "version": "3.12.6"
  }
 },
 "nbformat": 4,
 "nbformat_minor": 2
}
